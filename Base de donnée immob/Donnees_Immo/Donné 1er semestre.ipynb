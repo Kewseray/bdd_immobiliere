{
 "cells": [
  {
   "cell_type": "code",
   "execution_count": 2,
   "metadata": {},
   "outputs": [],
   "source": [
    "import pandas as pd\n",
    "import mysql.connector as mysql\n",
    "import sqlite3\n"
   ]
  },
  {
   "cell_type": "code",
   "execution_count": 3,
   "metadata": {},
   "outputs": [
    {
     "name": "stderr",
     "output_type": "stream",
     "text": [
      "c:\\Users\\utilisateur\\anaconda3\\lib\\site-packages\\openpyxl\\worksheet\\_read_only.py:79: UserWarning: Unknown extension is not supported and will be removed\n",
      "  for idx, row in parser.parse():\n"
     ]
    }
   ],
   "source": [
    "fonciere = pd.read_excel('fonciere.xlsx')\n",
    "commune = pd.read_excel('communes.xlsx')\n",
    "geo = pd.read_excel('geo.xlsx')"
   ]
  },
  {
   "cell_type": "code",
   "execution_count": 4,
   "metadata": {},
   "outputs": [
    {
     "data": {
      "text/html": [
       "<div>\n",
       "<style scoped>\n",
       "    .dataframe tbody tr th:only-of-type {\n",
       "        vertical-align: middle;\n",
       "    }\n",
       "\n",
       "    .dataframe tbody tr th {\n",
       "        vertical-align: top;\n",
       "    }\n",
       "\n",
       "    .dataframe thead th {\n",
       "        text-align: right;\n",
       "    }\n",
       "</style>\n",
       "<table border=\"1\" class=\"dataframe\">\n",
       "  <thead>\n",
       "    <tr style=\"text-align: right;\">\n",
       "      <th></th>\n",
       "      <th>Code service CH</th>\n",
       "      <th>Reference document</th>\n",
       "      <th>1 Articles CGI</th>\n",
       "      <th>2 Articles CGI</th>\n",
       "      <th>3 Articles CGI</th>\n",
       "      <th>4 Articles CGI</th>\n",
       "      <th>5 Articles CGI</th>\n",
       "      <th>No disposition</th>\n",
       "      <th>Date mutation</th>\n",
       "      <th>Nature mutation</th>\n",
       "      <th>...</th>\n",
       "      <th>Surface Carrez du 5eme lot</th>\n",
       "      <th>Nombre de lots</th>\n",
       "      <th>Code type local</th>\n",
       "      <th>Type local</th>\n",
       "      <th>Identifiant local</th>\n",
       "      <th>Surface reelle bati</th>\n",
       "      <th>Nombre pieces principales</th>\n",
       "      <th>Nature culture</th>\n",
       "      <th>Nature culture speciale</th>\n",
       "      <th>Surface terrain</th>\n",
       "    </tr>\n",
       "  </thead>\n",
       "  <tbody>\n",
       "    <tr>\n",
       "      <th>0</th>\n",
       "      <td>NaN</td>\n",
       "      <td>NaN</td>\n",
       "      <td>NaN</td>\n",
       "      <td>NaN</td>\n",
       "      <td>NaN</td>\n",
       "      <td>NaN</td>\n",
       "      <td>NaN</td>\n",
       "      <td>1</td>\n",
       "      <td>2020-02-03</td>\n",
       "      <td>Vente</td>\n",
       "      <td>...</td>\n",
       "      <td>NaN</td>\n",
       "      <td>1</td>\n",
       "      <td>2</td>\n",
       "      <td>Appartement</td>\n",
       "      <td>NaN</td>\n",
       "      <td>52</td>\n",
       "      <td>2</td>\n",
       "      <td>NaN</td>\n",
       "      <td>NaN</td>\n",
       "      <td>NaN</td>\n",
       "    </tr>\n",
       "    <tr>\n",
       "      <th>1</th>\n",
       "      <td>NaN</td>\n",
       "      <td>NaN</td>\n",
       "      <td>NaN</td>\n",
       "      <td>NaN</td>\n",
       "      <td>NaN</td>\n",
       "      <td>NaN</td>\n",
       "      <td>NaN</td>\n",
       "      <td>1</td>\n",
       "      <td>2020-01-02</td>\n",
       "      <td>Vente</td>\n",
       "      <td>...</td>\n",
       "      <td>NaN</td>\n",
       "      <td>2</td>\n",
       "      <td>2</td>\n",
       "      <td>Appartement</td>\n",
       "      <td>NaN</td>\n",
       "      <td>48</td>\n",
       "      <td>3</td>\n",
       "      <td>NaN</td>\n",
       "      <td>NaN</td>\n",
       "      <td>NaN</td>\n",
       "    </tr>\n",
       "    <tr>\n",
       "      <th>2</th>\n",
       "      <td>NaN</td>\n",
       "      <td>NaN</td>\n",
       "      <td>NaN</td>\n",
       "      <td>NaN</td>\n",
       "      <td>NaN</td>\n",
       "      <td>NaN</td>\n",
       "      <td>NaN</td>\n",
       "      <td>1</td>\n",
       "      <td>2020-01-08</td>\n",
       "      <td>Vente</td>\n",
       "      <td>...</td>\n",
       "      <td>NaN</td>\n",
       "      <td>2</td>\n",
       "      <td>2</td>\n",
       "      <td>Appartement</td>\n",
       "      <td>NaN</td>\n",
       "      <td>130</td>\n",
       "      <td>6</td>\n",
       "      <td>NaN</td>\n",
       "      <td>NaN</td>\n",
       "      <td>NaN</td>\n",
       "    </tr>\n",
       "    <tr>\n",
       "      <th>3</th>\n",
       "      <td>NaN</td>\n",
       "      <td>NaN</td>\n",
       "      <td>NaN</td>\n",
       "      <td>NaN</td>\n",
       "      <td>NaN</td>\n",
       "      <td>NaN</td>\n",
       "      <td>NaN</td>\n",
       "      <td>1</td>\n",
       "      <td>2020-01-06</td>\n",
       "      <td>Vente</td>\n",
       "      <td>...</td>\n",
       "      <td>NaN</td>\n",
       "      <td>1</td>\n",
       "      <td>1</td>\n",
       "      <td>Maison</td>\n",
       "      <td>NaN</td>\n",
       "      <td>109</td>\n",
       "      <td>5</td>\n",
       "      <td>NaN</td>\n",
       "      <td>NaN</td>\n",
       "      <td>NaN</td>\n",
       "    </tr>\n",
       "    <tr>\n",
       "      <th>4</th>\n",
       "      <td>NaN</td>\n",
       "      <td>NaN</td>\n",
       "      <td>NaN</td>\n",
       "      <td>NaN</td>\n",
       "      <td>NaN</td>\n",
       "      <td>NaN</td>\n",
       "      <td>NaN</td>\n",
       "      <td>1</td>\n",
       "      <td>2020-01-07</td>\n",
       "      <td>Vente</td>\n",
       "      <td>...</td>\n",
       "      <td>NaN</td>\n",
       "      <td>2</td>\n",
       "      <td>2</td>\n",
       "      <td>Appartement</td>\n",
       "      <td>NaN</td>\n",
       "      <td>91</td>\n",
       "      <td>4</td>\n",
       "      <td>NaN</td>\n",
       "      <td>NaN</td>\n",
       "      <td>NaN</td>\n",
       "    </tr>\n",
       "  </tbody>\n",
       "</table>\n",
       "<p>5 rows × 45 columns</p>\n",
       "</div>"
      ],
      "text/plain": [
       "   Code service CH  Reference document  1 Articles CGI  2 Articles CGI  \\\n",
       "0              NaN                 NaN             NaN             NaN   \n",
       "1              NaN                 NaN             NaN             NaN   \n",
       "2              NaN                 NaN             NaN             NaN   \n",
       "3              NaN                 NaN             NaN             NaN   \n",
       "4              NaN                 NaN             NaN             NaN   \n",
       "\n",
       "   3 Articles CGI  4 Articles CGI  5 Articles CGI  No disposition  \\\n",
       "0             NaN             NaN             NaN               1   \n",
       "1             NaN             NaN             NaN               1   \n",
       "2             NaN             NaN             NaN               1   \n",
       "3             NaN             NaN             NaN               1   \n",
       "4             NaN             NaN             NaN               1   \n",
       "\n",
       "  Date mutation Nature mutation  ...  Surface Carrez du 5eme lot  \\\n",
       "0    2020-02-03           Vente  ...                         NaN   \n",
       "1    2020-01-02           Vente  ...                         NaN   \n",
       "2    2020-01-08           Vente  ...                         NaN   \n",
       "3    2020-01-06           Vente  ...                         NaN   \n",
       "4    2020-01-07           Vente  ...                         NaN   \n",
       "\n",
       "   Nombre de lots Code type local   Type local Identifiant local  \\\n",
       "0               1               2  Appartement               NaN   \n",
       "1               2               2  Appartement               NaN   \n",
       "2               2               2  Appartement               NaN   \n",
       "3               1               1       Maison               NaN   \n",
       "4               2               2  Appartement               NaN   \n",
       "\n",
       "  Surface reelle bati Nombre pieces principales  Nature culture  \\\n",
       "0                  52                         2             NaN   \n",
       "1                  48                         3             NaN   \n",
       "2                 130                         6             NaN   \n",
       "3                 109                         5             NaN   \n",
       "4                  91                         4             NaN   \n",
       "\n",
       "   Nature culture speciale Surface terrain  \n",
       "0                      NaN             NaN  \n",
       "1                      NaN             NaN  \n",
       "2                      NaN             NaN  \n",
       "3                      NaN             NaN  \n",
       "4                      NaN             NaN  \n",
       "\n",
       "[5 rows x 45 columns]"
      ]
     },
     "execution_count": 4,
     "metadata": {},
     "output_type": "execute_result"
    }
   ],
   "source": [
    "fonciere.head()"
   ]
  },
  {
   "cell_type": "code",
   "execution_count": 5,
   "metadata": {},
   "outputs": [
    {
     "name": "stdout",
     "output_type": "stream",
     "text": [
      "<class 'pandas.core.frame.DataFrame'>\n",
      "Int64Index: 34145 entries, 0 to 34168\n",
      "Data columns (total 7 columns):\n",
      " #   Column                     Non-Null Count  Dtype  \n",
      "---  ------                     --------------  -----  \n",
      " 0   No voie                    34012 non-null  float64\n",
      " 1   Code type de voie          34145 non-null  int64  \n",
      " 2   Voie                       34145 non-null  object \n",
      " 3   Nombre pieces principales  34145 non-null  int64  \n",
      " 4   Surface reelle bati        34145 non-null  int64  \n",
      " 5   Surface Carrez du 1er lot  34145 non-null  float64\n",
      " 6   Type local                 34145 non-null  object \n",
      "dtypes: float64(2), int64(3), object(2)\n",
      "memory usage: 2.1+ MB\n"
     ]
    },
    {
     "name": "stderr",
     "output_type": "stream",
     "text": [
      "C:\\Users\\utilisateur\\AppData\\Local\\Temp\\ipykernel_16404\\2705313718.py:2: SettingWithCopyWarning: \n",
      "A value is trying to be set on a copy of a slice from a DataFrame\n",
      "\n",
      "See the caveats in the documentation: https://pandas.pydata.org/pandas-docs/stable/user_guide/indexing.html#returning-a-view-versus-a-copy\n",
      "  Bien.drop_duplicates(inplace=True)\n"
     ]
    }
   ],
   "source": [
    "Bien = fonciere[[\"No voie\",\"Code type de voie\",\"Voie\",\"Nombre pieces principales\",\"Surface reelle bati\",\"Surface Carrez du 1er lot\",\"Type local\"]]\n",
    "Bien.drop_duplicates(inplace=True)\n",
    "Bien.info()"
   ]
  },
  {
   "cell_type": "code",
   "execution_count": 6,
   "metadata": {},
   "outputs": [
    {
     "name": "stdout",
     "output_type": "stream",
     "text": [
      "<class 'pandas.core.frame.DataFrame'>\n",
      "RangeIndex: 38916 entries, 0 to 38915\n",
      "Data columns (total 37 columns):\n",
      " #   Column             Non-Null Count  Dtype \n",
      "---  ------             --------------  ----- \n",
      " 0   regrgp_nom         38916 non-null  object\n",
      " 1   reg_nom            38916 non-null  object\n",
      " 2   reg_nom_old        38916 non-null  object\n",
      " 3   aca_nom            38916 non-null  object\n",
      " 4   dep_nom            38916 non-null  object\n",
      " 5   com_code           38916 non-null  object\n",
      " 6   com_code1          38916 non-null  object\n",
      " 7   com_code2          38916 non-null  object\n",
      " 8   com_id             38916 non-null  object\n",
      " 9   com_nom_maj_court  38916 non-null  object\n",
      " 10  com_nom_maj        38916 non-null  object\n",
      " 11  com_nom            38916 non-null  object\n",
      " 12  uu_code            7625 non-null   object\n",
      " 13  uu_id              38916 non-null  object\n",
      " 14  uucr_id            38916 non-null  object\n",
      " 15  uucr_nom           38916 non-null  object\n",
      " 16  ze_id              38916 non-null  object\n",
      " 17  dep_code           38916 non-null  object\n",
      " 18  dep_id             38916 non-null  object\n",
      " 19  dep_nom_num        38916 non-null  object\n",
      " 20  dep_num_nom        38916 non-null  object\n",
      " 21  aca_code           38916 non-null  int64 \n",
      " 22  aca_id             38916 non-null  object\n",
      " 23  reg_code           38916 non-null  int64 \n",
      " 24  reg_id             38916 non-null  object\n",
      " 25  reg_code_old       38916 non-null  int64 \n",
      " 26  reg_id_old         38916 non-null  object\n",
      " 27  fd_id              38916 non-null  object\n",
      " 28  fr_id              38916 non-null  object\n",
      " 29  fe_id              38916 non-null  object\n",
      " 30  uu_id_99           38916 non-null  object\n",
      " 31  au_code            21444 non-null  object\n",
      " 32  au_id              38916 non-null  object\n",
      " 33  auc_id             38916 non-null  object\n",
      " 34  auc_nom            38916 non-null  object\n",
      " 35  uu_id_10           38916 non-null  object\n",
      " 36  geolocalisation    36745 non-null  object\n",
      "dtypes: int64(3), object(34)\n",
      "memory usage: 11.0+ MB\n"
     ]
    }
   ],
   "source": [
    "geo.info()"
   ]
  },
  {
   "cell_type": "code",
   "execution_count": 7,
   "metadata": {},
   "outputs": [],
   "source": [
    "region = geo[[\"regrgp_nom\",\"reg_nom\",\"reg_code\"]]"
   ]
  },
  {
   "cell_type": "code",
   "execution_count": 8,
   "metadata": {},
   "outputs": [
    {
     "data": {
      "text/plain": [
       "38916"
      ]
     },
     "execution_count": 8,
     "metadata": {},
     "output_type": "execute_result"
    }
   ],
   "source": [
    "con = sqlite3.connect(\"final.db\")\n",
    "\n",
    "region.to_sql(\"region\", con, if_exists=\"replace\", index=False)"
   ]
  },
  {
   "cell_type": "code",
   "execution_count": 9,
   "metadata": {},
   "outputs": [
    {
     "name": "stdout",
     "output_type": "stream",
     "text": [
      "<class 'pandas.core.frame.DataFrame'>\n",
      "Int64Index: 19 entries, 0 to 2160\n",
      "Data columns (total 3 columns):\n",
      " #   Column      Non-Null Count  Dtype \n",
      "---  ------      --------------  ----- \n",
      " 0   regrgp_nom  19 non-null     object\n",
      " 1   reg_nom     19 non-null     object\n",
      " 2   reg_code    19 non-null     int64 \n",
      "dtypes: int64(1), object(2)\n",
      "memory usage: 608.0+ bytes\n"
     ]
    },
    {
     "name": "stderr",
     "output_type": "stream",
     "text": [
      "C:\\Users\\utilisateur\\AppData\\Local\\Temp\\ipykernel_16404\\1856872497.py:1: SettingWithCopyWarning: \n",
      "A value is trying to be set on a copy of a slice from a DataFrame\n",
      "\n",
      "See the caveats in the documentation: https://pandas.pydata.org/pandas-docs/stable/user_guide/indexing.html#returning-a-view-versus-a-copy\n",
      "  region.drop_duplicates(inplace=True)\n"
     ]
    }
   ],
   "source": [
    "region.drop_duplicates(inplace=True)\n",
    "region.info()"
   ]
  },
  {
   "cell_type": "code",
   "execution_count": 10,
   "metadata": {},
   "outputs": [],
   "source": [
    "region.to_csv('region.csv')"
   ]
  },
  {
   "cell_type": "code",
   "execution_count": null,
   "metadata": {},
   "outputs": [],
   "source": []
  }
 ],
 "metadata": {
  "kernelspec": {
   "display_name": "Python 3.9.12 ('base')",
   "language": "python",
   "name": "python3"
  },
  "language_info": {
   "codemirror_mode": {
    "name": "ipython",
    "version": 3
   },
   "file_extension": ".py",
   "mimetype": "text/x-python",
   "name": "python",
   "nbconvert_exporter": "python",
   "pygments_lexer": "ipython3",
   "version": "3.9.12 (main, Apr  4 2022, 05:22:27) [MSC v.1916 64 bit (AMD64)]"
  },
  "orig_nbformat": 4,
  "vscode": {
   "interpreter": {
    "hash": "cce956dd8b59511f520788cd9362dddc117670ac5ef39c9ede8ba85a43b854a0"
   }
  }
 },
 "nbformat": 4,
 "nbformat_minor": 2
}
